{
 "cells": [
  {
   "cell_type": "code",
   "execution_count": 1,
   "metadata": {},
   "outputs": [
    {
     "name": "stderr",
     "output_type": "stream",
     "text": [
      "/root/anaconda3/envs/car2/lib/python3.5/importlib/_bootstrap.py:222: RuntimeWarning: numpy.dtype size changed, may indicate binary incompatibility. Expected 96, got 88\n",
      "  return f(*args, **kwds)\n",
      "/root/anaconda3/envs/car2/lib/python3.5/importlib/_bootstrap.py:222: RuntimeWarning: numpy.dtype size changed, may indicate binary incompatibility. Expected 96, got 88\n",
      "  return f(*args, **kwds)\n",
      "/root/anaconda3/envs/car2/lib/python3.5/importlib/_bootstrap.py:222: RuntimeWarning: numpy.dtype size changed, may indicate binary incompatibility. Expected 96, got 88\n",
      "  return f(*args, **kwds)\n"
     ]
    },
    {
     "name": "stdout",
     "output_type": "stream",
     "text": [
      "Extracting ./train-images-idx3-ubyte.gz\n",
      "Extracting ./train-labels-idx1-ubyte.gz\n",
      "Extracting ./t10k-images-idx3-ubyte.gz\n",
      "Extracting ./t10k-labels-idx1-ubyte.gz\n",
      "Epoch 0  : Accuracy = 0.8456000089645386\n",
      "Epoch 10 : Accuracy = 0.8812000155448914\n",
      "Epoch 20 : Accuracy = 0.8885999917984009\n",
      "Epoch 30 : Accuracy = 0.9014000296592712\n",
      "Epoch 40 : Accuracy = 0.8853999972343445\n",
      "Epoch 50 : Accuracy = 0.8924000263214111\n",
      "Epoch 60 : Accuracy = 0.8934000134468079\n",
      "Epoch 70 : Accuracy = 0.8899999856948853\n",
      "Epoch 80 : Accuracy = 0.8989999890327454\n",
      "Epoch 90 : Accuracy = 0.8912000060081482\n",
      "Test Accuracy = 0.8981000185012817\n",
      "Model Saved\n"
     ]
    }
   ],
   "source": [
    "from tensorflow.examples.tutorials.mnist import input_data\n",
    "mnist = input_data.read_data_sets('.', one_hot=True, reshape=False)\n",
    "\n",
    "import tensorflow as tf\n",
    "import math\n",
    "\n",
    "valid_features = mnist.validation.images\n",
    "test_features = mnist.test.images\n",
    "\n",
    "valid_labels = mnist.validation.labels \n",
    "test_labels = mnist.test.labels \n",
    "\n",
    "# hyperparameters \n",
    "learning_rate = .1\n",
    "num_epochs = 100\n",
    "batch_size = 128\n",
    "input_size = 784\n",
    "hidden_size = 256\n",
    "classes = 10\n",
    "\n",
    "tf.reset_default_graph()\n",
    "\n",
    "weights = {\n",
    "    'hidden': tf.Variable(tf.random_normal([input_size, hidden_size])),\n",
    "    'out': tf.Variable(tf.random_normal([hidden_size, classes])),\n",
    "}\n",
    "\n",
    "biases = {\n",
    "    'hidden': tf.Variable(tf.random_normal([hidden_size])),\n",
    "    'out': tf.Variable(tf.random_normal([classes])),\n",
    "}\n",
    "\n",
    "keep_prob = tf.placeholder('float')\n",
    "x = tf.placeholder('float', [None, 28, 28, 1])\n",
    "y = tf.placeholder('float', [None, classes])\n",
    "\n",
    "x_flat = tf.reshape(x, [-1, input_size])\n",
    "\n",
    "Z1 = tf.add(tf.matmul(x_flat, weights['hidden']), biases['hidden'])\n",
    "A1 = tf.nn.relu(Z1)\n",
    "#A1 = tf.nn.dropout(A1, keep_prob=keep_prob)\n",
    "Z2 = tf.add(tf.matmul(Z1, weights['out']), biases['out'])\n",
    "\n",
    "cost = tf.reduce_mean(tf.nn.softmax_cross_entropy_with_logits(logits=Z2, labels=y))\n",
    "optimizer = tf.train.GradientDescentOptimizer(learning_rate=learning_rate).minimize(cost)\n",
    "\n",
    "correct_pred = tf.equal(tf.argmax(Z2, 1), tf.argmax(y, 1))\n",
    "accuracy = tf.reduce_mean(tf.cast(correct_pred, tf.float32))\n",
    "\n",
    "saver = tf.train.Saver()\n",
    "\n",
    "with tf.Session() as sess:\n",
    "    sess.run(tf.global_variables_initializer())\n",
    "    \n",
    "    num_batches = math.ceil(mnist.train.num_examples/batch_size)\n",
    "    for epoch in range(num_epochs):\n",
    "        for i in range(num_batches):\n",
    "            batch_x, batch_y = mnist.train.next_batch(batch_size)\n",
    "            sess.run(optimizer, feed_dict={x: batch_x, y: batch_y, keep_prob: .5})\n",
    "            \n",
    "        if epoch % 10 == 0:\n",
    "            valid_accuracy = sess.run(accuracy, feed_dict={x: valid_features, y: valid_labels, keep_prob: 1.0})\n",
    "            print('Epoch {:<3}: Accuracy = {}'.format(epoch, valid_accuracy))\n",
    "            \n",
    "    test_accuracy = sess.run(accuracy, feed_dict={x: test_features, y: test_labels, keep_prob: 1.0})\n",
    "    print('Test Accuracy = {}'.format(test_accuracy))\n",
    "    \n",
    "    saver.save(sess, './model2.ckpt')\n",
    "    print(\"Model Saved\")"
   ]
  },
  {
   "cell_type": "code",
   "execution_count": null,
   "metadata": {},
   "outputs": [],
   "source": []
  }
 ],
 "metadata": {
  "kernelspec": {
   "display_name": "Python [conda env:car2]",
   "language": "python",
   "name": "conda-env-car2-py"
  },
  "language_info": {
   "codemirror_mode": {
    "name": "ipython",
    "version": 3
   },
   "file_extension": ".py",
   "mimetype": "text/x-python",
   "name": "python",
   "nbconvert_exporter": "python",
   "pygments_lexer": "ipython3",
   "version": "3.5.5"
  }
 },
 "nbformat": 4,
 "nbformat_minor": 4
}
