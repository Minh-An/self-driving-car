{
 "cells": [
  {
   "cell_type": "markdown",
   "metadata": {},
   "source": [
    "# TensorFlow Math\n",
    "Getting the input is great, but now you need to use it. You're going to use basic math functions that everyone knows and loves - add, subtract, multiply, and divide - with tensors. (There's many more math functions you can check out in the [documentation](https://www.tensorflow.org/api_docs/python/tf/math).)"
   ]
  },
  {
   "cell_type": "code",
   "execution_count": 19,
   "metadata": {},
   "outputs": [
    {
     "name": "stdout",
     "output_type": "stream",
     "text": [
      "4\n"
     ]
    }
   ],
   "source": [
    "import tensorflow as tf\n",
    "\n",
    "\n",
    "# TODO: Convert the following to TensorFlow:\n",
    "x = tf.constant(10)\n",
    "y = tf.constant(2)\n",
    "z = tf.subtract(tf.cast(tf.divide(x,y), tf.int32),1)\n",
    "\n",
    "# TODO: Print z from a session as the variable output\n",
    "output = None\n",
    "\n",
    "with tf.Session() as sess:\n",
    "    output = sess.run(z)\n",
    "    print(output)"
   ]
  },
  {
   "cell_type": "code",
   "execution_count": 20,
   "metadata": {},
   "outputs": [],
   "source": [
    "import numpy as np\n",
    "import json\n",
    "\n",
    "def get_result(student_output):\n",
    "    \"\"\"\n",
    "    Run unit tests against <student_func>\n",
    "    \"\"\"\n",
    "    \n",
    "    answer = 4.0\n",
    "    result = {\n",
    "        'correct': False,\n",
    "        'feedback': 'That\\'s the wrong answer.  It should print {}'.format(answer),\n",
    "        'comment': ''}\n",
    "\n",
    "    try:\n",
    "        student_output = np.float32(student_output)\n",
    "        if not student_output:\n",
    "            result['feedback'] = 'No output found'\n",
    "        elif student_output == answer:\n",
    "            result['correct'] = True\n",
    "            result['feedback'] = 'That\\'s right!  You correctly turned the algorithm to TensorFlow'\n",
    "    except TypeError as err:\n",
    "        if str(err).endswith('into a Tensor or Operation.)'):\n",
    "            result['feedback'] = 'TensorFlow session requires a tensor to run'\n",
    "        else:\n",
    "            raise\n",
    "\n",
    "    return result\n",
    "\n",
    "\n",
    "def run_grader(student_output):\n",
    "\n",
    "    try:\n",
    "        # Get grade result information\n",
    "        result = get_result(student_output)\n",
    "    except Exception as err:\n",
    "        # Default error result\n",
    "        result = {\n",
    "            'correct': False,\n",
    "            'feedback': 'Something went wrong with your submission:',\n",
    "            'comment': str(err)}\n",
    "        \n",
    "    feedback = result.get('feedback')\n",
    "    comment = result.get('comment')\n",
    "\n",
    "    print(\"{}\\n {}\\n\".format(feedback, comment))"
   ]
  },
  {
   "cell_type": "code",
   "execution_count": 22,
   "metadata": {},
   "outputs": [
    {
     "name": "stdout",
     "output_type": "stream",
     "text": [
      "That's right!  You correctly turned the algorithm to TensorFlow\n",
      " \n",
      "\n"
     ]
    }
   ],
   "source": [
    "run_grader(output)"
   ]
  },
  {
   "cell_type": "code",
   "execution_count": null,
   "metadata": {},
   "outputs": [],
   "source": []
  }
 ],
 "metadata": {
  "kernelspec": {
   "display_name": "Python [default]",
   "language": "python",
   "name": "python3"
  },
  "language_info": {
   "codemirror_mode": {
    "name": "ipython",
    "version": 3
   },
   "file_extension": ".py",
   "mimetype": "text/x-python",
   "name": "python",
   "nbconvert_exporter": "python",
   "pygments_lexer": "ipython3",
   "version": "3.5.4"
  },
  "widgets": {
   "state": {},
   "version": "1.1.2"
  }
 },
 "nbformat": 4,
 "nbformat_minor": 4
}
