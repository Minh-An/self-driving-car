{
 "cells": [
  {
   "cell_type": "markdown",
   "metadata": {},
   "source": [
    "# Neural Networks in Keras"
   ]
  },
  {
   "cell_type": "markdown",
   "metadata": {},
   "source": [
    "## Load and Preprocess Data"
   ]
  },
  {
   "cell_type": "code",
   "execution_count": 2,
   "metadata": {},
   "outputs": [],
   "source": [
    "import pickle\n",
    "import numpy as np\n",
    "import tensorflow as tf\n",
    "\n",
    "# Load pickled data\n",
    "with open('small-traffic-set/small_train_traffic.p', mode='rb') as f:\n",
    "    data = pickle.load(f)\n",
    "    \n",
    "# split data\n",
    "X_train, y_train = data['features'], data['labels']\n",
    "\n",
    "X_normalized = np.array(X_train / 255.0 - 0.5 )\n",
    "\n",
    "from sklearn.preprocessing import LabelBinarizer\n",
    "label_binarizer = LabelBinarizer()\n",
    "y_one_hot = label_binarizer.fit_transform(y_train)"
   ]
  },
  {
   "cell_type": "markdown",
   "metadata": {},
   "source": [
    "## Sequential Model \n",
    "\n",
    "The [keras.models.Sequential](https://faroit.com/keras-docs/2.0.9/models/sequential/) class is a wrapper for the neural network mode."
   ]
  },
  {
   "cell_type": "code",
   "execution_count": 3,
   "metadata": {},
   "outputs": [
    {
     "name": "stderr",
     "output_type": "stream",
     "text": [
      "Using TensorFlow backend.\n"
     ]
    }
   ],
   "source": [
    "from keras.models import Sequential\n",
    "\n",
    "model = Sequential()"
   ]
  },
  {
   "cell_type": "markdown",
   "metadata": {},
   "source": [
    "## [Convolutional Layers](https://keras.io/api/layers/convolution_layers/#convolution2d)\n",
    "\n",
    "## [Pooling](https://keras.io/api/layers/pooling_layers/#maxpooling2d)\n",
    "\n",
    "## [Dropout ](https://keras.io/api/layers/regularization_layers/dropout/)\n",
    "\n",
    "Note that in Keras, the probability is the **DROP** probability for the nodes, not the **KEEP** probability.\n",
    "\n",
    "## Layers \n",
    "\n",
    "Keras layers are just like neural net layers. There are fully connected, max pool, and activation layers. Add layers to the model using the model's `add()` function. "
   ]
  },
  {
   "cell_type": "code",
   "execution_count": 4,
   "metadata": {},
   "outputs": [],
   "source": [
    "from keras.layers.convolutional import Conv2D\n",
    "\n",
    "# conv layer with 32 filters, 3x3 kernel, valid padding with ReLU Activation\n",
    "model.add(Conv2D(16, (5,5), activation='relu', input_shape=(32,32,3)))"
   ]
  },
  {
   "cell_type": "code",
   "execution_count": 5,
   "metadata": {},
   "outputs": [],
   "source": [
    "from keras.layers.pooling import MaxPooling2D\n",
    "\n",
    "# 2x2 max pooling layer\n",
    "model.add(MaxPooling2D())"
   ]
  },
  {
   "cell_type": "code",
   "execution_count": 6,
   "metadata": {},
   "outputs": [],
   "source": [
    "model.add(Conv2D(32, (5,5), activation='relu'))\n",
    "model.add(MaxPooling2D())"
   ]
  },
  {
   "cell_type": "code",
   "execution_count": 7,
   "metadata": {},
   "outputs": [],
   "source": [
    "from keras.layers.core import Dense, Activation, Flatten, Dropout\n",
    "\n",
    "# flatten the input layer\n",
    "model.add(Flatten())\n",
    "\n",
    "# add fully connected layer\n",
    "model.add(Dense(128))\n",
    "\n",
    "# add ReLU activation layer\n",
    "model.add(Activation('relu'))\n",
    "\n",
    "model.add(Dropout(0.5))\n",
    "\n",
    "# another fully conntected\n",
    "model.add(Dense(5))\n",
    "\n",
    "# add ReLU activation layer\n",
    "model.add(Activation('softmax'))"
   ]
  },
  {
   "cell_type": "markdown",
   "metadata": {},
   "source": [
    "## Fit Model"
   ]
  },
  {
   "cell_type": "code",
   "execution_count": 9,
   "metadata": {},
   "outputs": [
    {
     "name": "stdout",
     "output_type": "stream",
     "text": [
      "Train on 80 samples, validate on 20 samples\n",
      "Epoch 1/50\n",
      "80/80 [==============================] - 0s 3ms/step - loss: 1.0711 - acc: 0.4875 - val_loss: 0.8226 - val_acc: 0.7000\n",
      "Epoch 2/50\n",
      "80/80 [==============================] - 0s 736us/step - loss: 0.8906 - acc: 0.5875 - val_loss: 0.7303 - val_acc: 0.7500\n",
      "Epoch 3/50\n",
      "80/80 [==============================] - 0s 737us/step - loss: 0.7823 - acc: 0.7500 - val_loss: 0.6238 - val_acc: 0.8000\n",
      "Epoch 4/50\n",
      "80/80 [==============================] - 0s 759us/step - loss: 0.6637 - acc: 0.7750 - val_loss: 0.5158 - val_acc: 0.8500\n",
      "Epoch 5/50\n",
      "80/80 [==============================] - 0s 732us/step - loss: 0.7529 - acc: 0.6875 - val_loss: 0.4532 - val_acc: 0.8000\n",
      "Epoch 6/50\n",
      "80/80 [==============================] - 0s 711us/step - loss: 0.6169 - acc: 0.7500 - val_loss: 0.3903 - val_acc: 1.0000\n",
      "Epoch 7/50\n",
      "80/80 [==============================] - 0s 696us/step - loss: 0.4943 - acc: 0.8000 - val_loss: 0.3369 - val_acc: 0.8500\n",
      "Epoch 8/50\n",
      "80/80 [==============================] - 0s 712us/step - loss: 0.4266 - acc: 0.8125 - val_loss: 0.2960 - val_acc: 0.8500\n",
      "Epoch 9/50\n",
      "80/80 [==============================] - 0s 690us/step - loss: 0.4660 - acc: 0.7500 - val_loss: 0.2723 - val_acc: 0.8500\n",
      "Epoch 10/50\n",
      "80/80 [==============================] - 0s 688us/step - loss: 0.3198 - acc: 0.8625 - val_loss: 0.2536 - val_acc: 1.0000\n",
      "Epoch 11/50\n",
      "80/80 [==============================] - 0s 730us/step - loss: 0.2988 - acc: 0.9125 - val_loss: 0.2261 - val_acc: 0.9500\n",
      "Epoch 12/50\n",
      "80/80 [==============================] - 0s 695us/step - loss: 0.3276 - acc: 0.8500 - val_loss: 0.2044 - val_acc: 0.9000\n",
      "Epoch 13/50\n",
      "80/80 [==============================] - 0s 702us/step - loss: 0.3697 - acc: 0.8250 - val_loss: 0.1702 - val_acc: 1.0000\n",
      "Epoch 14/50\n",
      "80/80 [==============================] - 0s 718us/step - loss: 0.3714 - acc: 0.8500 - val_loss: 0.1649 - val_acc: 0.9500\n",
      "Epoch 15/50\n",
      "80/80 [==============================] - 0s 748us/step - loss: 0.3070 - acc: 0.8625 - val_loss: 0.1841 - val_acc: 0.9500\n",
      "Epoch 16/50\n",
      "80/80 [==============================] - 0s 708us/step - loss: 0.3448 - acc: 0.8000 - val_loss: 0.1700 - val_acc: 0.8500\n",
      "Epoch 17/50\n",
      "80/80 [==============================] - 0s 699us/step - loss: 0.3071 - acc: 0.8000 - val_loss: 0.2018 - val_acc: 0.8500\n",
      "Epoch 18/50\n",
      "80/80 [==============================] - 0s 681us/step - loss: 0.2979 - acc: 0.8375 - val_loss: 0.1412 - val_acc: 1.0000\n",
      "Epoch 19/50\n",
      "80/80 [==============================] - 0s 682us/step - loss: 0.2439 - acc: 0.8875 - val_loss: 0.1912 - val_acc: 0.9000\n",
      "Epoch 20/50\n",
      "80/80 [==============================] - 0s 689us/step - loss: 0.3809 - acc: 0.7875 - val_loss: 0.1595 - val_acc: 0.9500\n",
      "Epoch 21/50\n",
      "80/80 [==============================] - 0s 694us/step - loss: 0.2722 - acc: 0.8375 - val_loss: 0.1424 - val_acc: 1.0000\n",
      "Epoch 22/50\n",
      "80/80 [==============================] - 0s 687us/step - loss: 0.2492 - acc: 0.9000 - val_loss: 0.1455 - val_acc: 0.9500\n",
      "Epoch 23/50\n",
      "80/80 [==============================] - 0s 705us/step - loss: 0.2384 - acc: 0.8625 - val_loss: 0.1255 - val_acc: 1.0000\n",
      "Epoch 24/50\n",
      "80/80 [==============================] - 0s 675us/step - loss: 0.2240 - acc: 0.9125 - val_loss: 0.1214 - val_acc: 1.0000\n",
      "Epoch 25/50\n",
      "80/80 [==============================] - 0s 689us/step - loss: 0.1751 - acc: 0.9625 - val_loss: 0.1047 - val_acc: 1.0000\n",
      "Epoch 26/50\n",
      "80/80 [==============================] - 0s 696us/step - loss: 0.1521 - acc: 0.9875 - val_loss: 0.1010 - val_acc: 1.0000\n",
      "Epoch 27/50\n",
      "80/80 [==============================] - 0s 704us/step - loss: 0.1935 - acc: 0.9375 - val_loss: 0.0843 - val_acc: 1.0000\n",
      "Epoch 28/50\n",
      "80/80 [==============================] - 0s 751us/step - loss: 0.1584 - acc: 0.9625 - val_loss: 0.0813 - val_acc: 1.0000\n",
      "Epoch 29/50\n",
      "80/80 [==============================] - 0s 702us/step - loss: 0.1302 - acc: 0.9750 - val_loss: 0.0759 - val_acc: 1.0000\n",
      "Epoch 30/50\n",
      "80/80 [==============================] - 0s 692us/step - loss: 0.1572 - acc: 0.9125 - val_loss: 0.0691 - val_acc: 1.0000\n",
      "Epoch 31/50\n",
      "80/80 [==============================] - 0s 721us/step - loss: 0.1832 - acc: 0.9000 - val_loss: 0.0679 - val_acc: 1.0000\n",
      "Epoch 32/50\n",
      "80/80 [==============================] - 0s 702us/step - loss: 0.1669 - acc: 0.9125 - val_loss: 0.0601 - val_acc: 1.0000\n",
      "Epoch 33/50\n",
      "80/80 [==============================] - 0s 684us/step - loss: 0.1687 - acc: 0.9375 - val_loss: 0.0971 - val_acc: 0.9500\n",
      "Epoch 34/50\n",
      "80/80 [==============================] - 0s 720us/step - loss: 0.1786 - acc: 0.9625 - val_loss: 0.0558 - val_acc: 1.0000\n",
      "Epoch 35/50\n",
      "80/80 [==============================] - 0s 698us/step - loss: 0.1326 - acc: 0.9875 - val_loss: 0.0520 - val_acc: 1.0000\n",
      "Epoch 36/50\n",
      "80/80 [==============================] - 0s 686us/step - loss: 0.1054 - acc: 0.9625 - val_loss: 0.0481 - val_acc: 1.0000\n",
      "Epoch 37/50\n",
      "80/80 [==============================] - 0s 705us/step - loss: 0.0912 - acc: 0.9875 - val_loss: 0.0363 - val_acc: 1.0000\n",
      "Epoch 38/50\n",
      "80/80 [==============================] - 0s 774us/step - loss: 0.0859 - acc: 0.9875 - val_loss: 0.0347 - val_acc: 1.0000\n",
      "Epoch 39/50\n",
      "80/80 [==============================] - 0s 710us/step - loss: 0.0718 - acc: 1.0000 - val_loss: 0.0339 - val_acc: 1.0000\n",
      "Epoch 40/50\n",
      "80/80 [==============================] - 0s 712us/step - loss: 0.0797 - acc: 1.0000 - val_loss: 0.0317 - val_acc: 1.0000\n",
      "Epoch 41/50\n",
      "80/80 [==============================] - 0s 804us/step - loss: 0.1020 - acc: 0.9625 - val_loss: 0.0238 - val_acc: 1.0000\n",
      "Epoch 42/50\n",
      "80/80 [==============================] - 0s 753us/step - loss: 0.0795 - acc: 0.9875 - val_loss: 0.0222 - val_acc: 1.0000\n",
      "Epoch 43/50\n",
      "80/80 [==============================] - 0s 726us/step - loss: 0.0551 - acc: 1.0000 - val_loss: 0.0179 - val_acc: 1.0000\n",
      "Epoch 44/50\n",
      "80/80 [==============================] - 0s 731us/step - loss: 0.0474 - acc: 1.0000 - val_loss: 0.0157 - val_acc: 1.0000\n",
      "Epoch 45/50\n",
      "80/80 [==============================] - 0s 717us/step - loss: 0.0487 - acc: 0.9875 - val_loss: 0.0150 - val_acc: 1.0000\n",
      "Epoch 46/50\n",
      "80/80 [==============================] - 0s 692us/step - loss: 0.0524 - acc: 0.9875 - val_loss: 0.0122 - val_acc: 1.0000\n",
      "Epoch 47/50\n",
      "80/80 [==============================] - 0s 767us/step - loss: 0.0328 - acc: 1.0000 - val_loss: 0.0111 - val_acc: 1.0000\n",
      "Epoch 48/50\n",
      "80/80 [==============================] - 0s 715us/step - loss: 0.0284 - acc: 1.0000 - val_loss: 0.0105 - val_acc: 1.0000\n",
      "Epoch 49/50\n",
      "80/80 [==============================] - 0s 723us/step - loss: 0.0533 - acc: 0.9750 - val_loss: 0.0096 - val_acc: 1.0000\n",
      "Epoch 50/50\n",
      "80/80 [==============================] - 0s 704us/step - loss: 0.0334 - acc: 1.0000 - val_loss: 0.0104 - val_acc: 1.0000\n"
     ]
    }
   ],
   "source": [
    "model.compile('adam', 'categorical_crossentropy', ['accuracy'])\n",
    "history = model.fit(X_normalized, y_one_hot, epochs=50, validation_split=0.2)"
   ]
  },
  {
   "cell_type": "markdown",
   "metadata": {},
   "source": [
    "## [Evaluate / Test Model](https://keras.io/api/models/model_training_apis/)\n"
   ]
  },
  {
   "cell_type": "code",
   "execution_count": 10,
   "metadata": {},
   "outputs": [
    {
     "name": "stdout",
     "output_type": "stream",
     "text": [
      "100/100 [==============================] - 0s 255us/step\n",
      "loss: 0.016760302931070326\n",
      "acc: 1.0\n"
     ]
    }
   ],
   "source": [
    "# Load pickled TEST data\n",
    "with open('small-traffic-set/small_test_traffic.p', mode='rb') as f:\n",
    "    data_test = pickle.load(f)\n",
    "    \n",
    "# split data\n",
    "X_test, y_test = data_test['features'], data_test['labels']\n",
    "\n",
    "X_test_normalized = np.array(X_train / 255.0 - 0.5 )\n",
    "\n",
    "y_one_hot_test = label_binarizer.fit_transform(y_train)\n",
    "\n",
    "metrics = model.evaluate(X_test_normalized, y_one_hot_test)\n",
    "for metric_i in range(len(model.metrics_names)):\n",
    "    metric_name = model.metrics_names[metric_i]\n",
    "    metric_value = metrics[metric_i]\n",
    "    print('{}: {}'.format(metric_name, metric_value))   "
   ]
  },
  {
   "cell_type": "code",
   "execution_count": null,
   "metadata": {},
   "outputs": [],
   "source": []
  }
 ],
 "metadata": {
  "kernelspec": {
   "display_name": "Python [conda env:car2]",
   "language": "python",
   "name": "conda-env-car2-py"
  },
  "language_info": {
   "codemirror_mode": {
    "name": "ipython",
    "version": 3
   },
   "file_extension": ".py",
   "mimetype": "text/x-python",
   "name": "python",
   "nbconvert_exporter": "python",
   "pygments_lexer": "ipython3",
   "version": "3.5.5"
  }
 },
 "nbformat": 4,
 "nbformat_minor": 4
}
