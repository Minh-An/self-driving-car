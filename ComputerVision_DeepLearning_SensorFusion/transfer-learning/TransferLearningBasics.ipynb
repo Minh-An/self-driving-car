{
 "cells": [
  {
   "cell_type": "markdown",
   "metadata": {},
   "source": [
    "# The Four Main Cases When Using Transfer Learning\n",
    "\n",
    "Transfer learning involves taking a pre-trained neural network and adapting the neural network to a new, different data set.\n",
    "\n",
    "Depending on both:\n",
    "\n",
    "- **size** of the new data set, and\n",
    "- the **similarity** of the new data set to the original data set\n",
    "\n",
    "There are four main cases:\n",
    "\n",
    "1. new data set is **small**, new data is **similar** to original training data\n",
    "2. new data set is **small**, new data is **different** from original training data\n",
    "3. new data set is **large**, new data is **similar** to original training data\n",
    "4. new data set is **large**, new data is **different** from original training data\n",
    "\n",
    "![](image/guide.png)"
   ]
  },
  {
   "cell_type": "markdown",
   "metadata": {},
   "source": [
    "## Network Example for Demonstration Purposes\n",
    "\n",
    "![](image/overview.png)"
   ]
  },
  {
   "cell_type": "markdown",
   "metadata": {},
   "source": [
    "## Case 1: Small Data Set, Similar Data \n",
    "\n",
    "![](image/case1.png)\n",
    "\n",
    "If the new data set is **small and similar** to the original training data:\n",
    "\n",
    "- slice off the end of the  network\n",
    "- add a new FC layer that matches the number of classes in the new data set\n",
    "- randomize weights of the new FC layer; freeze all the weights from the pre-trained network\n",
    "- train the network to update the weights of the new fully connected layer\n",
    "\n",
    "To avoid overfitting on the small data set, the weights of the original network will be held constant rather than re-training the weights.\n",
    "\n",
    "Since the data sets are similar, images from each data set will have similar higher level features. Therefore most or all of the pre-trained neural network layers already contain relevant information about the new data set and should be kept."
   ]
  },
  {
   "cell_type": "markdown",
   "metadata": {},
   "source": [
    "## Case 2: Small Data Set, Different Data \n",
    "\n",
    "![](image/case2.png)\n",
    "\n",
    "If the new data set is **small and different** to the original training data:\n",
    "\n",
    "- slice off the pre-trained layers in the beginning of the network\n",
    "- add a new fully connected layer that matches the number of classes in the new data set\n",
    "- randomize the weights of the new fully connected layer; freeze all the weights from the pre-trained network\n",
    "- train the network to update the weights of the new fully connected layer\n",
    "\n",
    "Because the data set is small, overfitting is still a concern. To combat overfitting, the weights of the original neural network will be held constant, like in the first case.\n",
    "\n",
    "But the original training set and the new data set do not share higher level features. In this case, the new network will only use the layers containing lower level features."
   ]
  },
  {
   "cell_type": "markdown",
   "metadata": {},
   "source": [
    "## Case 3: Large Data Set, Similar Data \n",
    "\n",
    "![](image/case3.png)\n",
    "\n",
    "If the new data set is **large and similar** to the original training data:\n",
    "\n",
    "- remove the last fully connected layer and replace with a layer matching the number of classes in the new data set\n",
    "- randomly initialize the weights in the new fully connected layer\n",
    "- **initialize the rest of the weights using the pre-trained weights**\n",
    "- re-train the entire neural network\n",
    "\n",
    "Overfitting is not as much of a concern when training on a large data set; therefore, you can re-train all of the weights.\n",
    "\n",
    "Because the original training set and the new data set share higher level features, the entire neural network is used as well."
   ]
  },
  {
   "cell_type": "markdown",
   "metadata": {},
   "source": [
    "## Case 4: Large Data Set, Different Data \n",
    "\n",
    "![](image/case4.png)\n",
    "\n",
    "If the new data set is **large and different** to the original training data:\n",
    "\n",
    "- remove the last fully connected layer and replace with a layer matching the number of classes in the new data set\n",
    "- retrain the network from scratch with randomly initialized weights\n",
    "- alternatively, you could just use the same strategy as the \"large and similar\" data case\n",
    "\n",
    "Even though the data set is different from the training data, initializing the weights from the pre-trained network might make training faster. So this case is exactly the same as the case with a large, similar data set.\n",
    "\n",
    "If using the pre-trained network as a starting point does not produce a successful model, another option is to randomly initialize the convolutional neural network weights and train the network from scratch."
   ]
  },
  {
   "cell_type": "code",
   "execution_count": null,
   "metadata": {},
   "outputs": [],
   "source": []
  }
 ],
 "metadata": {
  "kernelspec": {
   "display_name": "Python [conda env:car2]",
   "language": "python",
   "name": "conda-env-car2-py"
  },
  "language_info": {
   "codemirror_mode": {
    "name": "ipython",
    "version": 3
   },
   "file_extension": ".py",
   "mimetype": "text/x-python",
   "name": "python",
   "nbconvert_exporter": "python",
   "pygments_lexer": "ipython3",
   "version": "3.5.5"
  }
 },
 "nbformat": 4,
 "nbformat_minor": 4
}
