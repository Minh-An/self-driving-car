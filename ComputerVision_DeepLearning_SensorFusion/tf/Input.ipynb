{
 "cells": [
  {
   "cell_type": "code",
   "execution_count": 20,
   "metadata": {},
   "outputs": [],
   "source": [
    "import tensorflow as tf\n",
    "\n",
    "def run():\n",
    "    output = None\n",
    "    x = tf.placeholder(tf.int32)\n",
    "\n",
    "    with tf.Session() as sess:\n",
    "        output = sess.run(x, feed_dict={x: 123})\n",
    "\n",
    "    return output"
   ]
  },
  {
   "cell_type": "code",
   "execution_count": 21,
   "metadata": {},
   "outputs": [],
   "source": [
    "# test code\n",
    "\n",
    "import numpy as np\n",
    "from tensorflow.python.framework.errors import InvalidArgumentError\n",
    "\n",
    "def get_result(student_func):\n",
    "    \n",
    "    \"\"\"\n",
    "    Run unit tests against <student_func>\n",
    "    \"\"\"\n",
    "\n",
    "    answer = 123\n",
    "    result = {\n",
    "        'correct': False,\n",
    "        'feedback': 'That\\'s the wrong answer.  It should print {}'.format(answer),\n",
    "        'comment': ''}\n",
    "\n",
    "    try:\n",
    "        output = student_func()\n",
    "        if not output:\n",
    "            result['feedback'] = 'No output found'\n",
    "        if not isinstance(output, np.ndarray):\n",
    "            result['feedback'] = 'Output is the wrong type.'\n",
    "            result['comment'] = 'The output should come from running the session.'\n",
    "        if output == answer:\n",
    "            result['correct'] = True\n",
    "            result['feedback'] = 'You got it right.  You figured out how to use feed_dict!'\n",
    "    except InvalidArgumentError as err:\n",
    "        if err.message.startswith('You must feed a value for placeholder tensor'):\n",
    "            result['feedback'] = 'The placeholder is not being set.'\n",
    "            result['comment'] = 'Try using the feed_dict.'\n",
    "    except Exception as err:\n",
    "        result['feedback'] = 'Something went wrong with your submission:'\n",
    "        result['comment'] = str(err)\n",
    "    \n",
    "    print(\"{} \\n{}\".format(result.get('feedback'), result.get('comment')))"
   ]
  },
  {
   "cell_type": "code",
   "execution_count": 23,
   "metadata": {
    "scrolled": false
   },
   "outputs": [
    {
     "name": "stdout",
     "output_type": "stream",
     "text": [
      "You got it right.  You figured out how to use feed_dict! \n",
      "\n"
     ]
    }
   ],
   "source": [
    "get_result(run)"
   ]
  }
 ],
 "metadata": {
  "kernelspec": {
   "display_name": "Python [default]",
   "language": "python",
   "name": "python3"
  },
  "language_info": {
   "codemirror_mode": {
    "name": "ipython",
    "version": 3
   },
   "file_extension": ".py",
   "mimetype": "text/x-python",
   "name": "python",
   "nbconvert_exporter": "python",
   "pygments_lexer": "ipython3",
   "version": "3.5.4"
  },
  "widgets": {
   "state": {},
   "version": "1.1.2"
  }
 },
 "nbformat": 4,
 "nbformat_minor": 4
}
