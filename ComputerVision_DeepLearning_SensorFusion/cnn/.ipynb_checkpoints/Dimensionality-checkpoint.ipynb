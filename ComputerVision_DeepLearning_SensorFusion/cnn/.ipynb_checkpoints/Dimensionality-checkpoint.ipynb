{
 "cells": [
  {
   "cell_type": "markdown",
   "metadata": {},
   "source": [
    "# Dimensionality\n",
    "\n",
    "## Definitions \n",
    "- H = height, W = width, D = depth\n",
    "- FxF filter size \n",
    "- stride S\n",
    "- padding P\n",
    "- filter depth K\n",
    "\n",
    "```\n",
    "new_height = (H - F + 2 * P)/S + 1\n",
    "new_width = (W - F + 2 * P)/S + 1\n",
    "```"
   ]
  },
  {
   "cell_type": "code",
   "execution_count": 10,
   "metadata": {},
   "outputs": [
    {
     "name": "stdout",
     "output_type": "stream",
     "text": [
      "14x14x20\n"
     ]
    }
   ],
   "source": [
    "# example: quiz 1\n",
    "input_dim = [32,32,3]\n",
    "filter_size = [8,8,3]\n",
    "stride = 2\n",
    "padding = 1\n",
    "k = 20\n",
    "\n",
    "output_dim = [(input_dim[0]-filter_size[0]+2*padding) // stride + 1, \n",
    "             (input_dim[0]-filter_size[0]+2*padding) // stride + 1,\n",
    "             k]\n",
    "\n",
    "print('x'.join(str(x) for x in output_dim))"
   ]
  },
  {
   "cell_type": "code",
   "execution_count": 13,
   "metadata": {},
   "outputs": [
    {
     "name": "stdout",
     "output_type": "stream",
     "text": [
      "Tensor(\"add_2:0\", shape=(?, 16, 16, 20), dtype=float32)\n"
     ]
    }
   ],
   "source": [
    "# quiz 1: tf code \n",
    "import tensorflow as tf\n",
    "\n",
    "input = tf.placeholder(tf.float32, (None, 32,32,3))\n",
    "filter_weights = tf.Variable(tf.truncated_normal((8,8,3,20)))\n",
    "filter_bias = tf.Variable(tf.zeros(20))\n",
    "strides = [1,2,2,1] # batch, height, width, depth\n",
    "padding = 'SAME'\n",
    "conv = tf.nn.conv2d(input, filter_weights, strides, padding) + filter_bias\n",
    "\n",
    "print(conv)"
   ]
  },
  {
   "cell_type": "markdown",
   "metadata": {},
   "source": [
    "## Analyzing the TensorFlow Code\n",
    "\n",
    "The output shape of `conv` will be `[1,16,16,20]`. It's 4D for batch size, but also it's NOT `[1,14,14,20]`. \n",
    "\n",
    "Why? TensorFlow padding algorithm is not the same. Changing `padding` from `'SAME'` to `'VALID'` will give a shape of `[1,13,13,20]`\n",
    "\n",
    "More info about TF padding [here](https://www.tensorflow.org/api_docs/python/tf/nn/convolution).\n",
    "\n",
    "### Equations for 'SAME' + 'VALID' padding\n",
    "\n",
    "**SAME** \n",
    "\n",
    "`out_height` = ceil(float(in_height) / float(strides[1]))\n",
    "\n",
    "`out_width` = ceil(float(in_width) / float(strides[2]))\n",
    "\n",
    "**VALID**\n",
    "\n",
    "`out_height` = ceil(float(in_height - filter_height + 1) / float(strides[1]))\n",
    "\n",
    "`out_width` = ceil(float(in_width - filter_width + 1) / float(strides[2]))"
   ]
  },
  {
   "cell_type": "markdown",
   "metadata": {},
   "source": [
    "## Number of Parameters \n",
    "\n",
    "### Without Parameter Sharing \n",
    "\n",
    "Filter Size (Weights/Neurons): 8x8x3 + 1 (for bias)\n",
    "\n",
    "TIMES\n",
    "\n",
    "Output layer neurons/size: 14x14x20\n",
    "\n",
    "= (8x8x3+1)x(14x14x20)\n",
    "\n",
    "= **756560 parameters**\n",
    "\n",
    "### WITH Parameter Sharing (CNNs)\n",
    "\n",
    "Filter Size (Weights/Neurons): 8x8x3 + 1 (for bias)\n",
    "\n",
    "TIMES\n",
    "\n",
    "Number of filters (k): 20\n",
    "\n",
    "= (8x8x3+1)x(20)\n",
    "\n",
    "= **3860 parameters**\n",
    "\n",
    "### Weight sharing allows you to get rid of the 14x14 factor! "
   ]
  },
  {
   "cell_type": "code",
   "execution_count": null,
   "metadata": {},
   "outputs": [],
   "source": []
  }
 ],
 "metadata": {
  "kernelspec": {
   "display_name": "Python [conda env:car2]",
   "language": "python",
   "name": "conda-env-car2-py"
  },
  "language_info": {
   "codemirror_mode": {
    "name": "ipython",
    "version": 3
   },
   "file_extension": ".py",
   "mimetype": "text/x-python",
   "name": "python",
   "nbconvert_exporter": "python",
   "pygments_lexer": "ipython3",
   "version": "3.5.5"
  }
 },
 "nbformat": 4,
 "nbformat_minor": 4
}
