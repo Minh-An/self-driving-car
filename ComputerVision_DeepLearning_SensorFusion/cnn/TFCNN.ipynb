{
 "cells": [
  {
   "cell_type": "markdown",
   "metadata": {},
   "source": [
    "# CNNs in TensorFlow"
   ]
  },
  {
   "cell_type": "code",
   "execution_count": 2,
   "metadata": {},
   "outputs": [],
   "source": [
    "k = 64\n",
    "\n",
    "img_size = [10,10,3]\n",
    "\n",
    "filter_size = [5,5]\n",
    "\n",
    "import tensorflow as tf\n",
    "\n",
    "# image \n",
    "input_img = tf.placeholder(tf.float32, shape=[None, *img_size])\n",
    "\n",
    "# weight + bias\n",
    "weight = tf.Variable(tf.truncated_normal([*filter_size, img_size[2], k]))\n",
    "bias = tf.Variable(tf.zeros(k))\n",
    "\n",
    "# hyperparams\n",
    "strides = [1,2,2,1]\n",
    "padding = 'SAME'\n",
    "\n",
    "# apply convolution \n",
    "conv_layer = tf.nn.conv2d(input_img, weight, strides=strides, padding=padding)\n",
    "# add bias\n",
    "conv_layer = tf.nn.bias_add(conv_layer, bias)\n",
    "# apply activation\n",
    "conv_layer = tf.nn.relu(conv_layer)"
   ]
  },
  {
   "cell_type": "markdown",
   "metadata": {},
   "source": [
    "## TensorFlow Max Pooling \n",
    "\n",
    "![max](image/max-pooling.png)\n",
    "\n",
    "The image above is an example of max pooling with a 2x2 filter and stride of 2. The four 2x2 colors represent each time the filter was applied to find the maximum value.\n",
    "\n",
    "Benefit of max pooling is to reduce size of the input and allows CNN to focus on only the most important elements (hence retaining only the max value for each filtered area and removing the rest) \n",
    "\n",
    "TF provides `tf.nn.max_pool()` function to apply max pooling to conv layers.\n",
    "\n",
    "Parameters: \n",
    "\n",
    "- `ksize` size of the filter `[1,2,2,1]` is common\n",
    "- `strides` `[1,2,2,1]` is common\n",
    "- `padding` \n",
    "\n",
    "First and last dimensions in the ksize/stride array are for `batch` and `channels`, and are usually set to `1`. "
   ]
  },
  {
   "cell_type": "code",
   "execution_count": 3,
   "metadata": {},
   "outputs": [],
   "source": [
    "conv_layer = tf.nn.max_pool(\n",
    "    conv_layer,\n",
    "    ksize = [1,2,2,1],\n",
    "    strides = [1,2,2,1],\n",
    "    padding = 'SAME')"
   ]
  },
  {
   "cell_type": "markdown",
   "metadata": {},
   "source": [
    "## Full Example CNN in TensorFlow "
   ]
  },
  {
   "cell_type": "markdown",
   "metadata": {},
   "source": [
    "### Dataset "
   ]
  },
  {
   "cell_type": "code",
   "execution_count": 5,
   "metadata": {},
   "outputs": [
    {
     "name": "stdout",
     "output_type": "stream",
     "text": [
      "Extracting ./train-images-idx3-ubyte.gz\n",
      "Extracting ./train-labels-idx1-ubyte.gz\n",
      "Extracting ./t10k-images-idx3-ubyte.gz\n",
      "Extracting ./t10k-labels-idx1-ubyte.gz\n"
     ]
    }
   ],
   "source": [
    "from tensorflow.examples.tutorials.mnist import input_data\n",
    "mnist = input_data.read_data_sets(\".\", one_hot=True, reshape=False)\n",
    "\n",
    "import tensorflow as tf\n",
    "\n",
    "# Parameters \n",
    "learning_rate = .1\n",
    "epochs = 100\n",
    "batch_size = 128\n",
    "\n",
    "# Samples for validation and test sets \n",
    "test_valid_size = 256\n",
    "\n",
    "# Network params\n",
    "num_classes = 10\n",
    "keep_prob = .75"
   ]
  },
  {
   "cell_type": "markdown",
   "metadata": {},
   "source": [
    "### Weights and Biases"
   ]
  },
  {
   "cell_type": "code",
   "execution_count": 6,
   "metadata": {},
   "outputs": [],
   "source": [
    "weights = {\n",
    "    'conv1': tf.Variable(tf.random_normal([5,5,1,32])),\n",
    "    'conv2': tf.Variable(tf.random_normal([5,5,32,64])),\n",
    "    'fc1': tf.Variable(tf.random_normal([7*7*64,1024])),\n",
    "    'out': tf.Variable(tf.random_normal([1024, num_classes]))\n",
    "}\n",
    "\n",
    "biases = {\n",
    "    'conv1': tf.Variable(tf.random_normal([32])),\n",
    "    'conv2': tf.Variable(tf.random_normal([64])),\n",
    "    'fc1': tf.Variable(tf.random_normal([1024])),\n",
    "    'out': tf.Variable(tf.random_normal([num_classes]))\n",
    "}"
   ]
  },
  {
   "cell_type": "markdown",
   "metadata": {},
   "source": [
    "### Convolutions\n",
    "\n",
    "![](image/convolution-schematic.gif)\n",
    "\n",
    "Convolution w/ 3x3 filter and stride of 1 being applied to data.\n",
    "\n",
    "The convolution for each 3x3 section is calculated against the weight, `[[1, 0, 1], [0, 1, 0], [1, 0, 1]]`, then a bias is added to create the convolved feature on the right. In this case, the bias is zero."
   ]
  },
  {
   "cell_type": "code",
   "execution_count": 7,
   "metadata": {},
   "outputs": [],
   "source": [
    "def conv2d(x, W, b, stride = 1, padding='SAME'):\n",
    "    hidden = tf.nn.conv2d(x, W, strides=[1,stride,stride,1], padding=padding)\n",
    "    hidden = tf.nn.bias_add(hidden, b)\n",
    "    return tf.nn.relu(hidden)"
   ]
  },
  {
   "cell_type": "markdown",
   "metadata": {},
   "source": [
    "### Max Pooling\n",
    "\n",
    "![](image/maxpool.jpeg)\n",
    "\n",
    "Max pooling with 2x2 filter and a stride of 2. The colors in put represent each time the filter was applied to create the max on the right. \n",
    "\n",
    "For example, `[[1, 1], [5, 6]]` becomes 6 and `[[3, 2], [1, 2]]` becomes 3."
   ]
  },
  {
   "cell_type": "code",
   "execution_count": 8,
   "metadata": {},
   "outputs": [],
   "source": [
    "def maxpool2d(conv, size=2):\n",
    "    return tf.nn.max_pool(\n",
    "        conv,\n",
    "        ksize=[1,size,size,1],\n",
    "        strides=[1,size,size,1],\n",
    "        padding='SAME')"
   ]
  },
  {
   "cell_type": "markdown",
   "metadata": {},
   "source": [
    "### Model\n",
    "\n",
    "![](image/arch.png)\n",
    "\n",
    "We're going to create 3 layers alternating b/w convs and max pooling followed by a fully connected and output layer. The transformation with the new dimensions are shown "
   ]
  },
  {
   "cell_type": "code",
   "execution_count": null,
   "metadata": {},
   "outputs": [],
   "source": []
  }
 ],
 "metadata": {
  "kernelspec": {
   "display_name": "Python [conda env:car2]",
   "language": "python",
   "name": "conda-env-car2-py"
  },
  "language_info": {
   "codemirror_mode": {
    "name": "ipython",
    "version": 3
   },
   "file_extension": ".py",
   "mimetype": "text/x-python",
   "name": "python",
   "nbconvert_exporter": "python",
   "pygments_lexer": "ipython3",
   "version": "3.5.5"
  }
 },
 "nbformat": 4,
 "nbformat_minor": 4
}
