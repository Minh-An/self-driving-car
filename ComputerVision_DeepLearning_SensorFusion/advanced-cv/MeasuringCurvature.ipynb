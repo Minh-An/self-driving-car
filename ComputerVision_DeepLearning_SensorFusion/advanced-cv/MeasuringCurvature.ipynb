{
 "cells": [
  {
   "cell_type": "markdown",
   "metadata": {},
   "source": [
    "# Measuring Curvature\n",
    "\n",
    "In the last exercise, you located the lane line pixels, used their x and y pixel positions to fit a second order polynomial curve:\n",
    "\n",
    "$ f(y) = Ay^2 + By + C$\n",
    "\n",
    "### Radius of Curvature  \n",
    "\n",
    "$ R_{curve} = \\frac{[1+(\\frac{dx}{dy})^2]^{3/2}}{|{\\frac{d^2x}{dy^2}}|} $\n",
    "\n",
    "#### First + Second Derivative \n",
    "\n",
    "$ \\frac{dx}{dy} = 2Ay+B $\n",
    "\n",
    "$ \\frac{d^2x}{dy^2} = 2A $\n",
    "\n",
    "=> $ R_{curve} = \\frac{[1+(2Ay+B)^2]^{3/2}}{|{2A}|} $\n",
    "\n",
    "The $y$ values of your image increase from top to bottom, so if, for example, you wanted to measure the radius of curvature closest to your vehicle, you could evaluate the formula above at the $y$ value corresponding to the bottom of your image, or in Python, at `yvalue = image.shape[0]`.\n",
    "\n",
    "### Implementing the Calculation\n",
    "\n",
    "#### Generate some fake data to visualize with"
   ]
  },
  {
   "cell_type": "code",
   "execution_count": 1,
   "metadata": {},
   "outputs": [],
   "source": [
    "import numpy as np \n",
    "import matplotlib.pyplot as plt \n"
   ]
  },
  {
   "cell_type": "code",
   "execution_count": 2,
   "metadata": {},
   "outputs": [
    {
     "data": {
      "text/plain": [
       "<matplotlib.collections.PathCollection at 0x7f82ecfe4048>"
      ]
     },
     "execution_count": 2,
     "metadata": {},
     "output_type": "execute_result"
    },
    {
     "data": {
      "image/png": "[encoded data removed]",
      "text/plain": [
       "<matplotlib.figure.Figure at 0x7f82ef015d30>"
      ]
     },
     "metadata": {
      "needs_background": "light"
     },
     "output_type": "display_data"
    }
   ],
   "source": [
    "def generate_data(quadratic_coeff = 3e-4, seed = 0):\n",
    "    '''\n",
    "    Generates fake data to use for calculating lane curvature.\n",
    "    In your own project, you'll ignore this function and instead\n",
    "    feed in the output of your lane detection algorithm to\n",
    "    the lane curvature calculation.\n",
    "    '''\n",
    "    # for testing purposes \n",
    "    np.random.seed(seed)\n",
    "\n",
    "    ploty = np.linspace(0,719, num=720)\n",
    "    \n",
    "    leftx = np.array([200 + (y**2)*quadratic_coeff + np.random.randint(-50,high=51) for y in ploty])\n",
    "    rightx = np.array([900 + (y**2)*quadratic_coeff + np.random.randint(-50,high=51) for y in ploty])\n",
    "    \n",
    "    # reverse for top-to-bottom in y values\n",
    "    leftx = leftx[::-1]\n",
    "    rightx = rightx[::-1]\n",
    "    \n",
    "    left_fit = np.polyfit(ploty, leftx, 2)\n",
    "    right_fit = np.polyfit(ploty, rightx, 2)\n",
    "    \n",
    "    return ploty, left_fit, right_fit, (leftx, rightx)\n",
    "\n",
    "# Visualization \n",
    "ploty, left_fit, right_fit, (leftx, rightx) = generate_data()\n",
    "\n",
    "left_fitx = left_fit[0]*ploty**2 + left_fit[1]*ploty + left_fit[2]\n",
    "right_fitx = right_fit[0]*ploty**2 + right_fit[1]*ploty + right_fit[2]\n",
    "plt.plot(left_fitx, ploty, color='yellow')\n",
    "plt.plot(right_fitx, ploty, color='yellow')\n",
    "plt.scatter(leftx, ploty)\n",
    "plt.scatter(rightx, ploty)"
   ]
  },
  {
   "cell_type": "markdown",
   "metadata": {},
   "source": [
    "#### Implementing calculation itself\n",
    "\n",
    "implement radius of curvature calculation using fake data \n",
    "use $R_{curve}$ to calculate the left + right curve radius "
   ]
  },
  {
   "cell_type": "code",
   "execution_count": 4,
   "metadata": {},
   "outputs": [
    {
     "name": "stdout",
     "output_type": "stream",
     "text": [
      "1625.0601831657204 1976.2967307714334\n"
     ]
    }
   ],
   "source": [
    "def measure_curvature_pixels():\n",
    "    '''\n",
    "    Calculates the curvature of polynomial functions in pixels.\n",
    "    '''\n",
    "    ploty, left_fit, right_fit, _ = generate_data()\n",
    "    \n",
    "    # Define y to find radius of curvature, max y value corresponding to bottom of image\n",
    "    y = np.max(ploty)\n",
    "    \n",
    "    # calculate R_curve \n",
    "    # R_curve = ([1+(2Ay+B)^2]^(3/2)) / |2A|\n",
    "    left_curverad = (1+(2*left_fit[0]*y+left_fit[1])**2)**(3/2) / np.abs(2*left_fit[0])\n",
    "    right_curverad = (1+(2*right_fit[0]*y+right_fit[1])**2)**(3/2) / np.abs(2*right_fit[0])\n",
    "    \n",
    "    return left_curverad, right_curverad\n",
    "\n",
    "left_curverad, right_curverad = measure_curvature_pixels()\n",
    "print(left_curverad, right_curverad)"
   ]
  },
  {
   "cell_type": "markdown",
   "metadata": {},
   "source": [
    "## From Pixels to Real-World"
   ]
  },
  {
   "cell_type": "markdown",
   "metadata": {},
   "source": [
    "But now we need to stop and think... We've calculated the radius of curvature based on pixel values, so the radius we are reporting is in pixel space, which is not the same as real world space. So we actually need to repeat this calculation after converting our x and y values to real world space.\n",
    "\n",
    "This involves measuring how long and wide the section of lane is that we're projecting in our warped image. We could do this in detail by measuring out the physical lane in the field of view of the camera, but for this project, you can assume that if you're projecting a section of lane similar to the images above, the lane is about 30 meters long and 3.7 meters wide.\n",
    "\n",
    "Or, if you prefer to derive a conversion from pixel space to world space in your own images, compare your images with U.S. regulations that require a minimum lane width of 12 feet or 3.7 meters, and the dashed lane lines are 10 feet or 3 meters long each."
   ]
  },
  {
   "cell_type": "code",
   "execution_count": 6,
   "metadata": {},
   "outputs": [
    {
     "name": "stdout",
     "output_type": "stream",
     "text": [
      "533.7525889210938 m 648.157485143441 m\n"
     ]
    }
   ],
   "source": [
    "def generate_data(ym_per_pix, xm_per_pix, quadratic_coeff = 3e-4, seed = 0):\n",
    "    '''\n",
    "    Generates fake data to use for calculating lane curvature.\n",
    "    In your own project, you'll ignore this function and instead\n",
    "    feed in the output of your lane detection algorithm to\n",
    "    the lane curvature calculation.\n",
    "    '''\n",
    "    # for testing purposes \n",
    "    np.random.seed(seed)\n",
    "\n",
    "    ploty = np.linspace(0,719, num=720)\n",
    "    \n",
    "    leftx = np.array([200 + (y**2)*quadratic_coeff + np.random.randint(-50,high=51) for y in ploty])\n",
    "    rightx = np.array([900 + (y**2)*quadratic_coeff + np.random.randint(-50,high=51) for y in ploty])\n",
    "    \n",
    "    # reverse for top-to-bottom in y values\n",
    "    leftx = leftx[::-1]\n",
    "    rightx = rightx[::-1]\n",
    "    \n",
    "    left_fit = np.polyfit(ploty*ym_per_pix, leftx*xm_per_pix, 2)\n",
    "    right_fit = np.polyfit(ploty*ym_per_pix, rightx*xm_per_pix, 2)\n",
    "    \n",
    "    return ploty, left_fit, right_fit, (leftx, rightx)\n",
    "\n",
    "def measure_curvature_real(ym_per_pix = 30/720, xm_per_pix = 3.7/700):\n",
    "    '''\n",
    "    Calculates the curvature of polynomial functions in meters.\n",
    "    '''\n",
    "    ploty, left_fit, right_fit, _ = generate_data(ym_per_pix, xm_per_pix)\n",
    "    \n",
    "    # Define y to find radius of curvature, max y value corresponding to bottom of image\n",
    "    y = np.max(ploty)\n",
    "    \n",
    "    # calculate R_curve \n",
    "    # R_curve = ([1+(2Ay+B)^2]^(3/2)) / |2A|\n",
    "    left_curverad = (1+(2*left_fit[0]*y*ym_per_pix+left_fit[1])**2)**(3/2) / np.abs(2*left_fit[0]) \n",
    "    right_curverad = (1+(2*right_fit[0]*y*ym_per_pix+right_fit[1])**2)**(3/2) / np.abs(2*right_fit[0])\n",
    "    \n",
    "    return left_curverad, right_curverad\n",
    "\n",
    "# Calculate the radius of curvature in meters for both lane lines\n",
    "left_curverad, right_curverad = measure_curvature_real()\n",
    "\n",
    "print(left_curverad, 'm', right_curverad, 'm')"
   ]
  }
 ],
 "metadata": {
  "kernelspec": {
   "display_name": "Python [conda env:carnd3]",
   "language": "python",
   "name": "conda-env-carnd3-py"
  },
  "language_info": {
   "codemirror_mode": {
    "name": "ipython",
    "version": 3
   },
   "file_extension": ".py",
   "mimetype": "text/x-python",
   "name": "python",
   "nbconvert_exporter": "python",
   "pygments_lexer": "ipython3",
   "version": "3.5.4"
  }
 },
 "nbformat": 4,
 "nbformat_minor": 4
}
